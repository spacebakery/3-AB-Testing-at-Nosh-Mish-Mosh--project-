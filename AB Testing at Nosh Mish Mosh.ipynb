{
 "cells": [
  {
   "cell_type": "markdown",
   "source": [
    "# A/B Testing at Nosh Mish Mosh\n",
    "#### Codecademy | Analyze Data with Python | Hypothesis Testing with SciPy | Sample Size Determination\n",
    "The Nosh Mish Mosh is a recipe and ingredient meal delivery service. They ship the raw materials and you get to cook them at your home! They’ve decided to hire a data analyst to help make product and interface decisions. Get started to help them figure out the amount of data they’ll need to make meaningful decisions."
   ],
   "metadata": {
    "collapsed": false
   },
   "id": "a85652ed0c43ee6"
  },
  {
   "cell_type": "markdown",
   "source": [
    "1.We’ve collected customer data for the past week and exposed it through a Python library, so first import `noshmishmosh`."
   ],
   "metadata": {
    "collapsed": false
   },
   "id": "9f4de48555069c5d"
  },
  {
   "cell_type": "code",
   "execution_count": 1,
   "id": "initial_id",
   "metadata": {
    "collapsed": true,
    "ExecuteTime": {
     "end_time": "2023-12-29T17:17:52.226045Z",
     "start_time": "2023-12-29T17:17:52.142895Z"
    }
   },
   "outputs": [],
   "source": [
    "import noshmishmosh"
   ]
  },
  {
   "cell_type": "markdown",
   "source": [
    "2.Next, we’ll need to do a little bit of data analysis — let’s use `numpy` to help. Import `numpy` into your workspace."
   ],
   "metadata": {
    "collapsed": false
   },
   "id": "2ad7b8fefd2ee8e8"
  },
  {
   "cell_type": "code",
   "execution_count": 2,
   "outputs": [],
   "source": [
    "import numpy as np"
   ],
   "metadata": {
    "collapsed": false,
    "ExecuteTime": {
     "end_time": "2023-12-29T17:17:52.239052Z",
     "start_time": "2023-12-29T17:17:52.153174Z"
    }
   },
   "id": "1638f5a419f77198"
  },
  {
   "cell_type": "markdown",
   "source": [
    "### A/B Testing at Nosh Mish Mosh\n",
    "3.Nosh Mish Mosh wants to run an experiment to see if we can convince more people to purchase meal plans if we use a more artisanal-looking vegetable selection. We’ve photographed these modern meals with blush tomatoes and graffiti eggplants, but aren’t sure if this strategy will sell enough units to benefit from establishing a business relationship with a new provider.\n",
    "\n",
    "Before running this experiment, of course, we need to know the sample size that will be required to detect the difference we are hoping for. There are three things we need to know before we can determine that number.\n",
    "\n",
    "- the **Baseline Conversion Rate**\n",
    "- desired **Lift** (minimum detectable effect)\n",
    "- and the **Statistical Significance Threshold**"
   ],
   "metadata": {
    "collapsed": false
   },
   "id": "a0fb04f04e90b9d2"
  },
  {
   "cell_type": "markdown",
   "source": [
    "4.Let’s get the ball rolling on finding those numbers! In order to get our baseline, we need to first know how many users visit the site in a typical week. Let’s grab that logged information, which is stored in `noshmishmosh.customer_visits`. Assign that to a new variable called `all_visitors`."
   ],
   "metadata": {
    "collapsed": false
   },
   "id": "6d736731464adebc"
  },
  {
   "cell_type": "code",
   "execution_count": 3,
   "outputs": [],
   "source": [
    "all_visitors = noshmishmosh.customer_visits"
   ],
   "metadata": {
    "collapsed": false,
    "ExecuteTime": {
     "end_time": "2023-12-29T17:17:52.246219Z",
     "start_time": "2023-12-29T17:17:52.238861Z"
    }
   },
   "id": "3d2c5805b2bf71fb"
  },
  {
   "cell_type": "markdown",
   "source": [
    "5.Next we need to know how many visitors to the site ultimately end up buying a meal or set of meals in a typical week. We have that information saved into `purchasing_customers` field on `noshmishmosh`. Save that information into a variable called `paying_visitors`."
   ],
   "metadata": {
    "collapsed": false
   },
   "id": "4a355852a5e7772a"
  },
  {
   "cell_type": "code",
   "execution_count": 4,
   "outputs": [],
   "source": [
    "paying_visitors = noshmishmosh.purchasing_customers"
   ],
   "metadata": {
    "collapsed": false,
    "ExecuteTime": {
     "end_time": "2023-12-29T17:17:52.263327Z",
     "start_time": "2023-12-29T17:17:52.244778Z"
    }
   },
   "id": "1a85436a872d96e5"
  },
  {
   "cell_type": "markdown",
   "source": [
    "6.Calculate the lengths of the two lists, saving the results into variables called `total_visitor_count` and `paying_visitor_count`, respectively."
   ],
   "metadata": {
    "collapsed": false
   },
   "id": "988bed6bef954100"
  },
  {
   "cell_type": "code",
   "execution_count": 5,
   "outputs": [],
   "source": [
    "total_visitor_count = len(all_visitors)\n",
    "paying_visitor_count = len(paying_visitors)"
   ],
   "metadata": {
    "collapsed": false,
    "ExecuteTime": {
     "end_time": "2023-12-29T17:17:52.263770Z",
     "start_time": "2023-12-29T17:17:52.251876Z"
    }
   },
   "id": "e28faa451c69e21"
  },
  {
   "cell_type": "markdown",
   "source": [
    "7.Now to get the baseline: Divide the number of purchasing visitors by the number of total visitors. Save the result in a variable called `baseline_percent`. Since we want a percentage as our answer, multiply the result by `100.0`."
   ],
   "metadata": {
    "collapsed": false
   },
   "id": "8bcfa0306fd8b3a2"
  },
  {
   "cell_type": "code",
   "execution_count": 6,
   "outputs": [],
   "source": [
    "baseline_percentage = paying_visitor_count / total_visitor_count * 100"
   ],
   "metadata": {
    "collapsed": false,
    "ExecuteTime": {
     "end_time": "2023-12-29T17:17:52.264101Z",
     "start_time": "2023-12-29T17:17:52.258175Z"
    }
   },
   "id": "35d4bbbb131ef537"
  },
  {
   "cell_type": "markdown",
   "source": [
    "8.Print out the `baseline_percent` so we know what to use for our baseline percentage in the A/B Sample Size Calculator."
   ],
   "metadata": {
    "collapsed": false
   },
   "id": "23c2c73d6748262b"
  },
  {
   "cell_type": "code",
   "execution_count": 7,
   "outputs": [
    {
     "name": "stdout",
     "output_type": "stream",
     "text": [
      "18.6\n"
     ]
    }
   ],
   "source": [
    "print(baseline_percentage)"
   ],
   "metadata": {
    "collapsed": false,
    "ExecuteTime": {
     "end_time": "2023-12-29T17:17:52.276306Z",
     "start_time": "2023-12-29T17:17:52.262909Z"
    }
   },
   "id": "d27a5778d0ebc419"
  },
  {
   "cell_type": "markdown",
   "source": [
    "### Mish Mosh B'Gosh: the Lift"
   ],
   "metadata": {
    "collapsed": false
   },
   "id": "b69fb8443610ee4e"
  },
  {
   "cell_type": "markdown",
   "source": [
    "9.These rainbow fingerling potatoes don’t come cheap. We’d like to know for sure that, with this change, we’ll be pulling in at least $1240 more every week. In order to figure out how many more customers we need, we’ll have to investigate the average revenue generated from a given sale. Luckily we have a list of the money spent by each customer in a typical week: `noshmishmosh.money_spent`. Save that list into a variable called `payment_history`."
   ],
   "metadata": {
    "collapsed": false
   },
   "id": "ccb74fb21cb74e5a"
  },
  {
   "cell_type": "code",
   "execution_count": 8,
   "outputs": [],
   "source": [
    "payment_history = noshmishmosh.money_spent\n"
   ],
   "metadata": {
    "collapsed": false,
    "ExecuteTime": {
     "end_time": "2023-12-29T17:17:52.278005Z",
     "start_time": "2023-12-29T17:17:52.270143Z"
    }
   },
   "id": "a44cbdb3d9dcfd3b"
  },
  {
   "cell_type": "markdown",
   "source": [
    "10.We need to find how many purchases it would take to reach $1240 in additional revenue using our historical data.\n",
    "\n",
    "Let’s start with computing the average payment per paying customer using `np.mean`, saving it as `average_payment`."
   ],
   "metadata": {
    "collapsed": false
   },
   "id": "550de2570c4d16cf"
  },
  {
   "cell_type": "code",
   "execution_count": 9,
   "outputs": [],
   "source": [
    "average_payment = np.mean(payment_history)"
   ],
   "metadata": {
    "collapsed": false,
    "ExecuteTime": {
     "end_time": "2023-12-29T17:17:52.290075Z",
     "start_time": "2023-12-29T17:17:52.276051Z"
    }
   },
   "id": "8554df487f197860"
  },
  {
   "cell_type": "markdown",
   "source": [
    "11.We want to know how many of these “usual” payments it would take to clear our `$1240` mark. Round the number up using `np.ceil` (because that’s how many new customers it takes to bring in more than `$1240`). Save that value into a `new_customers_needed` variable."
   ],
   "metadata": {
    "collapsed": false
   },
   "id": "ee7a31f9f69cef2a"
  },
  {
   "cell_type": "code",
   "execution_count": 10,
   "outputs": [],
   "source": [
    "new_customers_needed = np.ceil(1240 / average_payment)"
   ],
   "metadata": {
    "collapsed": false,
    "ExecuteTime": {
     "end_time": "2023-12-29T17:17:52.345530Z",
     "start_time": "2023-12-29T17:17:52.282382Z"
    }
   },
   "id": "c80080e99444fb44"
  },
  {
   "cell_type": "markdown",
   "source": [
    "12.Now find the additional percent of weekly visitors who must make a purchase in order to make this change worthwhile. Do this by dividing the number of customers by the total visitor count for a typical week (calculated earlier), and multiplying by 100. Save the result in a variable called `percentage_point_increase`. Print `percentage_point_increase` to see what it is."
   ],
   "metadata": {
    "collapsed": false
   },
   "id": "400aa0debe8f0997"
  },
  {
   "cell_type": "code",
   "execution_count": 11,
   "outputs": [],
   "source": [
    "percentage_point_increase = new_customers_needed / total_visitor_count * 100"
   ],
   "metadata": {
    "collapsed": false,
    "ExecuteTime": {
     "end_time": "2023-12-29T17:17:52.358396Z",
     "start_time": "2023-12-29T17:17:52.291240Z"
    }
   },
   "id": "e753c51fa649b5de"
  },
  {
   "cell_type": "markdown",
   "source": [
    "13.In order to find our desired lift, we need to express `percentage_point_increase` as a percent of `baseline_percent`. You can do this by dividing `percentage_point_increase` by `baseline_percent` and multiplying by `100.0`.\n",
    "\n",
    "Store the results in a variable called `lift`."
   ],
   "metadata": {
    "collapsed": false
   },
   "id": "d34caa40c07856fd"
  },
  {
   "cell_type": "code",
   "execution_count": 12,
   "outputs": [],
   "source": [
    "lift = percentage_point_increase / baseline_percentage * 100"
   ],
   "metadata": {
    "collapsed": false,
    "ExecuteTime": {
     "end_time": "2023-12-29T17:17:52.358875Z",
     "start_time": "2023-12-29T17:17:52.295241Z"
    }
   },
   "id": "bb5e0b1609a05c4d"
  },
  {
   "cell_type": "markdown",
   "source": [
    "14.Print out the result lift."
   ],
   "metadata": {
    "collapsed": false
   },
   "id": "2d9ea9d8fb2583e0"
  },
  {
   "cell_type": "code",
   "execution_count": 13,
   "outputs": [
    {
     "name": "stdout",
     "output_type": "stream",
     "text": [
      "50.53763440860215\n"
     ]
    }
   ],
   "source": [
    "print(lift)"
   ],
   "metadata": {
    "collapsed": false,
    "ExecuteTime": {
     "end_time": "2023-12-29T17:17:52.359807Z",
     "start_time": "2023-12-29T17:17:52.298104Z"
    }
   },
   "id": "1d6a5f66b88c00c4"
  },
  {
   "cell_type": "markdown",
   "source": [
    "### Nosh Mish Mosh: Tying It All Together"
   ],
   "metadata": {
    "collapsed": false
   },
   "id": "8ecc597db0ae4ed0"
  },
  {
   "cell_type": "markdown",
   "source": [
    "15.The last thing we need to calculate the sample size for Nosh Mish Mosh’s artisanal rebranding is our statistical significance threshold. We’d like to be fairly certain, but this isn’t going to be a million dollar decision, so let’s go with 10%."
   ],
   "metadata": {
    "collapsed": false
   },
   "id": "e1d225a13f198e30"
  },
  {
   "cell_type": "code",
   "execution_count": 14,
   "outputs": [],
   "source": [
    "\"\"\"\n",
    "Based on the Smaple Determination Calculator\n",
    "\"\"\"\n",
    "ab_sample_size = 494"
   ],
   "metadata": {
    "collapsed": false,
    "ExecuteTime": {
     "end_time": "2023-12-29T17:17:52.360407Z",
     "start_time": "2023-12-29T17:17:52.307075Z"
    }
   },
   "id": "4443d62723d3c2fb"
  },
  {
   "cell_type": "markdown",
   "source": [
    "16.Now put it all together! Punch the baseline, the minimum desired lift, and the statistical significance threshold into the calculator and evaluate how many people need to be shown the new assets before we can check if the results are a significant improvement. Save the results in a variable called ab_sample_size."
   ],
   "metadata": {
    "collapsed": false
   },
   "id": "e44e8077534477d"
  },
  {
   "cell_type": "code",
   "execution_count": 15,
   "outputs": [
    {
     "name": "stdout",
     "output_type": "stream",
     "text": [
      "The number of people (sample size) need to see the artisanal-looking vegetable section is 494\n"
     ]
    }
   ],
   "source": [
    "print(\"The number of people (sample size) need to see the artisanal-looking vegetable section is \" + str(ab_sample_size))\n"
   ],
   "metadata": {
    "collapsed": false,
    "ExecuteTime": {
     "end_time": "2023-12-29T17:17:52.361391Z",
     "start_time": "2023-12-29T17:17:52.310435Z"
    }
   },
   "id": "6dadd0e4bfea2f65"
  }
 ],
 "metadata": {
  "kernelspec": {
   "display_name": "Python 3",
   "language": "python",
   "name": "python3"
  },
  "language_info": {
   "codemirror_mode": {
    "name": "ipython",
    "version": 2
   },
   "file_extension": ".py",
   "mimetype": "text/x-python",
   "name": "python",
   "nbconvert_exporter": "python",
   "pygments_lexer": "ipython2",
   "version": "2.7.6"
  }
 },
 "nbformat": 4,
 "nbformat_minor": 5
}
